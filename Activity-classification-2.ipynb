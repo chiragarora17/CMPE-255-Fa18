{
 "cells": [
  {
   "cell_type": "markdown",
   "metadata": {},
   "source": [
    "# Classification using Bayesian Classifier \n",
    "\n",
    "### Bayesian Classifiers\n",
    "These classifiers are \"probabilistic classifiers\" based on Bayes' theorem. Bayesian classifiers are highly scalable. They are often used when dimensionality of the inputs is high. \n",
    "\n",
    "### Types\n",
    "1. Naïve Bayes\n",
    "2. Bayesian Belief Network\n",
    "\n",
    "### Problem Statement\n",
    "\n",
    "UCI dataset: Skin Segmentation Data Set (https://archive.ics.uci.edu/ml/machine-learning-databases/00229/).\n",
    "The Skin Segmentation dataset is constructed over the B, G, R color space. Skin and Nonskin dataset is generated using skin textures from face images of people with diverse age, gender, and race. The task is to identify whether the BGR combination is a skin color or not.\n"
   ]
  },
  {
   "cell_type": "code",
   "execution_count": null,
   "metadata": {},
   "outputs": [],
   "source": [
    "import numpy as np\n",
    "import pandas as pd\n",
    "from sklearn.model_selection import train_test_split\n",
    "from sklearn.naive_bayes import GaussianNB"
   ]
  },
  {
   "cell_type": "markdown",
   "metadata": {},
   "source": [
    "Following code reads a text file into a dataframe. Modify the below code to split the values of B, G, R and class label into different columns. Each column must have a column name as specified below:\n",
    "\n",
    "```\n",
    "Column No.   Expected Column Name\n",
    "1            BLUE\n",
    "2            GREEN\n",
    "3            RED\n",
    "4            RESULT     \n",
    "```"
   ]
  },
  {
   "cell_type": "code",
   "execution_count": null,
   "metadata": {},
   "outputs": [],
   "source": [
    "df = pd.read_csv(\n",
    "    filepath_or_buffer='https://archive.ics.uci.edu/ml/machine-learning-databases/00229/Skin_NonSkin.txt')"
   ]
  },
  {
   "cell_type": "markdown",
   "metadata": {},
   "source": [
    "Write some code to define X and y dataframes containing R G B components in X and the class in y. Then these will be used to split the data into test / train data. We will be using the Test-Train Split in order to calculate the accuracy of a classification model."
   ]
  },
  {
   "cell_type": "code",
   "execution_count": null,
   "metadata": {},
   "outputs": [],
   "source": [
    "# Write your code here\n",
    "\n",
    "\n",
    "X_train, X_test, y_train, y_test = train_test_split(X, y, test_size=0.25, random_state=42)"
   ]
  },
  {
   "cell_type": "markdown",
   "metadata": {},
   "source": [
    "The code in the next cell is used to classify the test data by following the steps below:\n",
    "    1. Import Gaussian Naïve Bayes Classifier\n",
    "    2. Fit the model with training data (X: attributes and y:labels)\n",
    "    3. Use the trained model to predict labels of test data (X_test)\n",
    "    4. Calculate the accuracy score using actual labels (y_test) and predicted labels (y_pred)"
   ]
  },
  {
   "cell_type": "code",
   "execution_count": null,
   "metadata": {},
   "outputs": [],
   "source": [
    "gnb = GaussianNB()\n",
    "y_pred = gnb.fit(X_train, y_train).predict(X_test)\n",
    "accuracy_score(y_test, y_pred)"
   ]
  },
  {
   "cell_type": "markdown",
   "metadata": {},
   "source": [
    "Write some code to calculate Precision, Recall and F-score of the results obtained using the given GaussianNB classification model.\n"
   ]
  },
  {
   "cell_type": "code",
   "execution_count": null,
   "metadata": {},
   "outputs": [],
   "source": []
  },
  {
   "cell_type": "markdown",
   "metadata": {},
   "source": [
    "Write some code to classify X_train and y_train using Multinomial Naive Bayes Classifier or Bernoulli Naive Bayes Classifier. Calculate the accuracy, precision, recall and f1-score values for your trained model. Use the scikit learn library for this task."
   ]
  },
  {
   "cell_type": "code",
   "execution_count": null,
   "metadata": {},
   "outputs": [],
   "source": []
  }
 ],
 "metadata": {
  "kernelspec": {
   "display_name": "Python 3",
   "language": "python",
   "name": "python3"
  },
  "language_info": {
   "codemirror_mode": {
    "name": "ipython",
    "version": 3
   },
   "file_extension": ".py",
   "mimetype": "text/x-python",
   "name": "python",
   "nbconvert_exporter": "python",
   "pygments_lexer": "ipython3",
   "version": "3.6.3"
  }
 },
 "nbformat": 4,
 "nbformat_minor": 2
}
